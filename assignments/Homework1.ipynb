{
 "cells": [
  {
   "cell_type": "code",
   "execution_count": 1,
   "id": "15ba5053-aa50-42f8-bba6-7da55d4d27b7",
   "metadata": {},
   "outputs": [],
   "source": [
    "import pandas as pd\n",
    "import numpy as np"
   ]
  },
  {
   "cell_type": "code",
   "execution_count": null,
   "id": "3268aa88-ed7b-430a-a807-e03c613e62c1",
   "metadata": {},
   "outputs": [],
   "source": [
    "data = 'https://raw.githubusercontent.com/alexeygrigorev/datasets/master/laptops.csv'"
   ]
  },
  {
   "cell_type": "code",
   "execution_count": null,
   "id": "22d91b4e-19da-4bd8-82c8-59a6f8346d77",
   "metadata": {},
   "outputs": [],
   "source": [
    "!wget $data"
   ]
  },
  {
   "cell_type": "code",
   "execution_count": null,
   "id": "027ace8d-2031-4f53-b065-e4174c16ed07",
   "metadata": {},
   "outputs": [],
   "source": [
    "df = pd.read_csv('laptops.csv')"
   ]
  },
  {
   "cell_type": "code",
   "execution_count": null,
   "id": "52cabbeb-8acd-453f-906a-eb6b39e652d4",
   "metadata": {},
   "outputs": [],
   "source": [
    "df.columns = df.columns.str.lower().str.replace(' ', '_')"
   ]
  },
  {
   "cell_type": "code",
   "execution_count": null,
   "id": "671698dc-4f26-421b-b9dc-789347ce9122",
   "metadata": {},
   "outputs": [],
   "source": [
    "df"
   ]
  },
  {
   "cell_type": "code",
   "execution_count": null,
   "id": "caf6f2f8-4033-4675-aea5-d24028e6374b",
   "metadata": {},
   "outputs": [],
   "source": [
    "df.dtypes"
   ]
  },
  {
   "cell_type": "code",
   "execution_count": null,
   "id": "8f6fefdb-4ceb-4166-84ee-3826a0ee2d66",
   "metadata": {},
   "outputs": [],
   "source": [
    "columns = ['ram', 'storage', 'screen', 'final_price']"
   ]
  },
  {
   "cell_type": "code",
   "execution_count": null,
   "id": "74f6b12f-5fb6-47bd-88f0-90d151ec5568",
   "metadata": {},
   "outputs": [],
   "source": [
    "df = df[columns]\n",
    "df"
   ]
  },
  {
   "cell_type": "markdown",
   "id": "9b10e25b-d1b3-42a3-bdd8-1513c04c33ca",
   "metadata": {},
   "source": [
    "### Question 1"
   ]
  },
  {
   "cell_type": "code",
   "execution_count": null,
   "id": "b3976fa7-3bd9-450c-a234-965587185930",
   "metadata": {},
   "outputs": [],
   "source": [
    "\n",
    "df.isnull().sum()"
   ]
  },
  {
   "cell_type": "markdown",
   "id": "8459f866-93a1-4867-b5a8-4cfeffae8c4a",
   "metadata": {},
   "source": [
    "### Question 2"
   ]
  },
  {
   "cell_type": "code",
   "execution_count": null,
   "id": "cce5b57b-9ff1-47ec-b9d1-ef1348f5578a",
   "metadata": {},
   "outputs": [],
   "source": [
    "\n",
    "\n",
    "median_ram = df['ram'].median()\n",
    "median_ram"
   ]
  },
  {
   "cell_type": "markdown",
   "id": "95f3a822-f2d8-4761-b4c1-e30ab719cc8c",
   "metadata": {},
   "source": [
    "### Question 3"
   ]
  },
  {
   "cell_type": "code",
   "execution_count": null,
   "id": "d811391e-3d1a-4fb4-b1bd-a7f43217df01",
   "metadata": {},
   "outputs": [],
   "source": [
    "n = len(df)\n",
    "n_val = int(n* 0.2)\n",
    "n_test = int(n* 0.2)\n",
    "n_train = n - n_val - n_test\n",
    "index = np.arange(n)\n",
    "np.random.seed(42)\n",
    "np.random.shuffle(index)"
   ]
  },
  {
   "cell_type": "code",
   "execution_count": null,
   "id": "361051a5-d05f-43c7-b796-3d2113ac1487",
   "metadata": {},
   "outputs": [],
   "source": [
    "df_train = df.iloc[index[:n_train]]\n",
    "df_val = df.iloc[index[n_train: n_train + n_val]]\n",
    "df_test = df.iloc[index[n_train + n_val:]]"
   ]
  },
  {
   "cell_type": "code",
   "execution_count": null,
   "id": "78e3dc4c-f230-4763-8e1e-616ee5577674",
   "metadata": {},
   "outputs": [],
   "source": [
    "df_train = df_train.reset_index(drop = True)\n",
    "df_val = df_val.reset_index(drop = True)\n",
    "df_test = df_test.reset_index(drop = True)"
   ]
  },
  {
   "cell_type": "code",
   "execution_count": null,
   "id": "0fead6f4-0299-4c30-93c3-369e8f995125",
   "metadata": {},
   "outputs": [],
   "source": [
    "df_train"
   ]
  },
  {
   "cell_type": "markdown",
   "id": "562915ea-bcb1-4646-81e2-190f89b41b55",
   "metadata": {},
   "source": [
    "### Fill missing values with 0"
   ]
  },
  {
   "cell_type": "code",
   "execution_count": null,
   "id": "cea5a182-c032-430b-aeb1-a14cbf22063a",
   "metadata": {},
   "outputs": [],
   "source": [
    "df_train.isnull().sum()"
   ]
  },
  {
   "cell_type": "code",
   "execution_count": null,
   "id": "7806c4f9-1fdd-4c93-bb0b-59c66f059cf9",
   "metadata": {},
   "outputs": [],
   "source": [
    "y_train = np.log1p(df_train.final_price.values)\n",
    "y_test = np.log1p(df_test.final_price.values)\n",
    "y_val = np.log1p(df_val.final_price.values)"
   ]
  },
  {
   "cell_type": "code",
   "execution_count": null,
   "id": "252ebcba-99f5-43dd-98a0-748f82bbcf1d",
   "metadata": {},
   "outputs": [],
   "source": [
    "def train_linear_regression(X, y):\n",
    "    ones = np.ones(X.shape[0])\n",
    "    X = np.column_stack([ones, X])\n",
    "    XTX = X.T.dot(X)\n",
    "    XTX_inv = np.linalg.inv(XTX)\n",
    "    w_full = XTX_inv.dot(X.T).dot(y)\n",
    "    return w_full[0], w_full[1:]\n",
    "  "
   ]
  },
  {
   "cell_type": "code",
   "execution_count": null,
   "id": "e0351aaf-97df-4da8-9e08-98809927068d",
   "metadata": {},
   "outputs": [],
   "source": [
    "def rmse(y, y_pred):\n",
    "    se = (y - y_pred) ** 2\n",
    "    mse = se.mean()\n",
    "    return np.sqrt(mse)"
   ]
  },
  {
   "cell_type": "code",
   "execution_count": null,
   "id": "d1ed7cbe-4636-435c-acd9-a4e2f0b8e0fe",
   "metadata": {},
   "outputs": [],
   "source": [
    "features = ['ram', 'storage', 'screen']"
   ]
  },
  {
   "cell_type": "code",
   "execution_count": null,
   "id": "7da49826-e3db-4dff-8d7f-7b8ed00b74b8",
   "metadata": {},
   "outputs": [],
   "source": [
    "def prepare_X(df):\n",
    "    df = df.copy()\n",
    "    df['screen'] = df['screen'].fillna(0)\n",
    "    df_num = df[features]\n",
    "    X = df_num.values\n",
    "    return X"
   ]
  },
  {
   "cell_type": "code",
   "execution_count": null,
   "id": "f1db5d4a-197c-4e61-9fe8-9bb87407d9c2",
   "metadata": {},
   "outputs": [],
   "source": [
    "X_train = prepare_X(df_train)\n",
    "w0, w = train_linear_regression(X_train, y_train)\n",
    "\n",
    "X_val = prepare_X(df_val)\n",
    "y_pred = w0 + X_val.dot(w)\n",
    "\n",
    "round(rmse(y_val, y_pred), 2)"
   ]
  },
  {
   "cell_type": "markdown",
   "id": "92610bb3-4593-4f54-854d-4de018f44374",
   "metadata": {},
   "source": [
    "## fill missing values with mean"
   ]
  },
  {
   "cell_type": "code",
   "execution_count": null,
   "id": "a054a4c6-2c24-4551-91ed-b49ef9a1d1c8",
   "metadata": {},
   "outputs": [],
   "source": [
    "mean = df_train['screen'].mean()\n",
    "mean"
   ]
  },
  {
   "cell_type": "code",
   "execution_count": null,
   "id": "15e1c7d6-bd42-4ea2-b28e-03ca2a1f051a",
   "metadata": {},
   "outputs": [],
   "source": [
    "def prepare_X_with_mean(df):\n",
    "    df = df.copy()\n",
    "    df['screen'] = df['screen'].fillna(mean)\n",
    "    df_num = df[features]\n",
    "    X = df_num.values\n",
    "    return X"
   ]
  },
  {
   "cell_type": "code",
   "execution_count": null,
   "id": "28ff9dea-dffb-4b93-8a35-759c406ff6fd",
   "metadata": {},
   "outputs": [],
   "source": [
    "X_train = prepare_X_with_mean(df_train)\n",
    "w0, w = train_linear_regression(X_train, y_train)\n",
    "\n",
    "X_val = prepare_X(df_val)\n",
    "y_pred = w0 + X_val.dot(w)\n",
    "\n",
    "round(rmse(y_val, y_pred), 2)"
   ]
  },
  {
   "cell_type": "markdown",
   "id": "3f82f946-4505-46bf-a81d-6204b488d0d3",
   "metadata": {},
   "source": [
    "## Question 4"
   ]
  },
  {
   "cell_type": "code",
   "execution_count": null,
   "id": "c54bf0c2-2b15-45d7-8d4f-7f2ca9a19019",
   "metadata": {},
   "outputs": [],
   "source": [
    "def train_linear_regression_reg(X, y,r=0.001):\n",
    "    ones = np.ones(X.shape[0])\n",
    "    X = np.column_stack([ones, X])\n",
    "    \n",
    "    XTX = X.T.dot(X)\n",
    "    XTX = XTX + r * np.eye(XTX.shape[0])\n",
    "\n",
    "    \n",
    "    XTX_inv = np.linalg.inv(XTX)\n",
    "    w_full = XTX_inv.dot(X.T).dot(y)\n",
    "    return w_full[0], w_full[1:]\n",
    "  "
   ]
  },
  {
   "cell_type": "code",
   "execution_count": null,
   "id": "7539ac52-d464-4be1-abcf-2ed81c577e95",
   "metadata": {},
   "outputs": [],
   "source": [
    "for r in [0, 0.01, 0.1, 1, 5, 10, 100]:\n",
    "    X_train = prepare_X(df_train)\n",
    "    w0, w = train_linear_regression_reg(X_train, y_train, r=r)\n",
    "    \n",
    "    X_val = prepare_X(df_val)\n",
    "    y_pred = w0 + X_val.dot(w)\n",
    "    score = round(rmse(y_val, y_pred), 2)\n",
    "    print(f\"r:{r}, w0:{w0}, score: {score}\")"
   ]
  },
  {
   "cell_type": "markdown",
   "id": "c632d228-3f20-4a46-8b2a-56f26487216a",
   "metadata": {},
   "source": [
    "### Question 5"
   ]
  },
  {
   "cell_type": "code",
   "execution_count": null,
   "id": "e1197a5a-2318-400e-bdf0-c9675f9dab30",
   "metadata": {},
   "outputs": [],
   "source": [
    "def shuffle_and_split_data(seed_value):\n",
    "    index = np.arange(n)\n",
    "    np.random.seed(seed_value)\n",
    "    np.random.shuffle(index)\n",
    "    \n",
    "    df_train_1 = df.iloc[index[:n_train]]\n",
    "    df_val_1 = df.iloc[index[n_train: n_train + n_val]]\n",
    "    df_test_1= df.iloc[index[n_train + n_val:]]\n",
    "    \n",
    "    df_train_1 = df_train_1.reset_index(drop = True)\n",
    "    df_val_1 = df_val_1.reset_index(drop = True)\n",
    "    df_test_1 = df_test_1.reset_index(drop = True)\n",
    "\n",
    "    return df_train_1, df_val_1, df_test_1\n",
    "    "
   ]
  },
  {
   "cell_type": "code",
   "execution_count": null,
   "id": "cabaf0b4-fb17-447f-a34f-9cccfff74b3c",
   "metadata": {},
   "outputs": [],
   "source": [
    "scores = []\n",
    "for seed in [0, 1, 2, 3, 4, 5, 6, 7, 8, 9]:\n",
    "    df_train_1, df_val_1, df_test_1 = shuffle_and_split_data(seed)\n",
    "    y_train_1 = df_train_1.final_price.values\n",
    "    y_test_1 = df_test_1.final_price.values\n",
    "    y_val_1 = df_val_1.final_price.values\n",
    "    X_train_1 = prepare_X(df_train_1)\n",
    "    w0, w = train_linear_regression(X_train_1, y_train_1)\n",
    "\n",
    "    X_val_1 = prepare_X(df_val_1)\n",
    "    y_pred = w0 + X_val_1.dot(w)\n",
    "\n",
    "    scores.append(rmse(y_val_1, y_pred))\n",
    "\n",
    "\n",
    "\n",
    "    \n",
    "round(np.std(scores), 3)    "
   ]
  },
  {
   "cell_type": "markdown",
   "id": "91685618-ce9c-4661-a7d1-abeb5f5f5402",
   "metadata": {},
   "source": [
    "### Question 6"
   ]
  },
  {
   "cell_type": "code",
   "execution_count": null,
   "id": "92be44bf-7fae-44b0-a8d2-8b6e19936a87",
   "metadata": {},
   "outputs": [],
   "source": [
    "df_train, df_val, df_test = shuffle_and_split_data(9)\n",
    "y_train = df_train.final_price.values\n",
    "y_test =df_test.final_price.values\n",
    "y_val = df_val.final_price.values"
   ]
  },
  {
   "cell_type": "code",
   "execution_count": null,
   "id": "da39b100-ec72-4a29-8fda-322ea688ea87",
   "metadata": {},
   "outputs": [],
   "source": [
    "df_full_train = pd.concat([df_train, df_val])\n",
    "df_full_train = df_full_train.reset_index(drop=True)"
   ]
  },
  {
   "cell_type": "code",
   "execution_count": null,
   "id": "b7b9236e-820c-4165-bb69-c610ff56acea",
   "metadata": {},
   "outputs": [],
   "source": [
    "df_full_train"
   ]
  },
  {
   "cell_type": "code",
   "execution_count": null,
   "id": "54afbb8a-8f2f-4ee4-9b4f-69ff3a58079a",
   "metadata": {},
   "outputs": [],
   "source": [
    "X_full_train = prepare_X(df_full_train)"
   ]
  },
  {
   "cell_type": "code",
   "execution_count": null,
   "id": "79d10da3-9690-4832-941a-b9757adaa80f",
   "metadata": {},
   "outputs": [],
   "source": [
    "y_full_train = np.concatenate([y_train, y_val])"
   ]
  },
  {
   "cell_type": "code",
   "execution_count": null,
   "id": "5bddf146-f889-4f8b-b1a0-bfa2d1266630",
   "metadata": {},
   "outputs": [],
   "source": [
    "w0, w = train_linear_regression_reg(X_full_train, y_full_train, r=0.001)    \n",
    "X_test = prepare_X(df_test)\n",
    "y_pred = w0 + X_test.dot(w)\n",
    "score = round(rmse(y_test, y_pred), 2)"
   ]
  },
  {
   "cell_type": "code",
   "execution_count": null,
   "id": "b8e6a66b-6572-428e-a8c3-bb9e2bb45088",
   "metadata": {},
   "outputs": [],
   "source": [
    "score"
   ]
  },
  {
   "cell_type": "code",
   "execution_count": null,
   "id": "5d4393dd-f5a0-4738-b1e6-5f58e9249396",
   "metadata": {},
   "outputs": [],
   "source": []
  }
 ],
 "metadata": {
  "kernelspec": {
   "display_name": "Python 3 (ipykernel)",
   "language": "python",
   "name": "python3"
  },
  "language_info": {
   "codemirror_mode": {
    "name": "ipython",
    "version": 3
   },
   "file_extension": ".py",
   "mimetype": "text/x-python",
   "name": "python",
   "nbconvert_exporter": "python",
   "pygments_lexer": "ipython3",
   "version": "3.12.1"
  }
 },
 "nbformat": 4,
 "nbformat_minor": 5
}
